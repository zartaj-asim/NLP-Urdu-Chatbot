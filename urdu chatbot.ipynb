{
 "cells": [
  {
   "cell_type": "code",
   "execution_count": 1,
   "id": "de23c060",
   "metadata": {},
   "outputs": [],
   "source": [
    "import pandas as pd\n",
    "from transformers import BertTokenizer, BertModel\n",
    "import torch\n",
    "from sklearn.metrics.pairwise import cosine_similarity\n",
    "from langdetect import detect\n",
    "from sentence_transformers import SentenceTransformer, util\n"
   ]
  },
  {
   "cell_type": "code",
   "execution_count": 2,
   "id": "ba2bcb6e",
   "metadata": {},
   "outputs": [],
   "source": [
    "model_name = 'bert-base-multilingual-cased'\n",
    "tokenizer = BertTokenizer.from_pretrained(model_name)\n",
    "model = BertModel.from_pretrained(model_name)\n",
    "sentence_transformer_model = SentenceTransformer('paraphrase-multilingual-mpnet-base-v2')"
   ]
  },
  {
   "cell_type": "code",
   "execution_count": 3,
   "id": "86f51140",
   "metadata": {},
   "outputs": [],
   "source": [
    "from langdetect import detect"
   ]
  },
  {
   "cell_type": "code",
   "execution_count": 4,
   "id": "011482bd",
   "metadata": {},
   "outputs": [],
   "source": [
    "def get_embeddings(text):\n",
    "    inputs = tokenizer(text, return_tensors='pt', padding=True, truncation=True)\n",
    "    outputs = model(**inputs)\n",
    "    embeddings = outputs.last_hidden_state.mean(dim=1)\n",
    "    return embeddings\n",
    "\n",
    "def get_similar_answer(user_input, df, domain):\n",
    "    user_embedding = sentence_transformer_model.encode([user_input], convert_to_tensor=True)\n",
    "    max_similarity = -1\n",
    "    most_similar_question = None\n",
    "\n",
    "    for index, row in df.iterrows():\n",
    "        question = row['سوالات']\n",
    "        question_domain = row['Domain']  \n",
    "        if domain is not None and domain != question_domain:\n",
    "            continue  \n",
    "\n",
    "        question_embedding = sentence_transformer_model.encode([question], convert_to_tensor=True)\n",
    "        similarity = util.pytorch_cos_sim(user_embedding, question_embedding)\n",
    "        if similarity > max_similarity:\n",
    "            max_similarity = similarity\n",
    "            most_similar_question = question\n",
    "\n",
    "    if most_similar_question:\n",
    "        answer = df[df['سوالات'] == most_similar_question]['جوابات'].iloc[0]\n",
    "        return answer\n",
    "    else:\n",
    "        return \"معاف کریں، میں اس سوال کا جواب نہیں دے سکتا۔\"\n",
    "\n",
    "\n"
   ]
  },
  {
   "cell_type": "code",
   "execution_count": 5,
   "id": "d8e8b8fb",
   "metadata": {},
   "outputs": [],
   "source": [
    "def get_domain(user_input):\n",
    "    # Define a set of domain keywords\n",
    "    domain_keywords = {\n",
    "        'نئے': 'نئے',\n",
    "        'پولیس': 'پولیس ویریفکیشن',\n",
    "        'کریکٹر': 'کریکٹر سرٹیفکیٹ',\n",
    "        'ملازم': 'ملازم',\n",
    "        'ایف آئی آر': 'ایف آئی آر',\n",
    "        'جرم': 'جرم',\n",
    "        'گمشدگی': 'گمشدگی',\n",
    "        'گاڑی': 'گاڑی',\n",
    "        'کرایہ دار': 'کرایہ دار',\n",
    "        'لرنر ڈرائیونگ': 'لرنر ڈرائیونگ',\n",
    "        'ڈپلیکیٹ ڈرائیونگ لائسنس': 'ڈپلیکیٹ ڈرائیونگ لائسنس',\n",
    "        'رینیو': 'رینیو',\n",
    "        'نقل': 'نقل',\n",
    "        'انٹرنیشنل ڈرائیونگ لائسنس': 'انٹرنیشنل ڈرائیونگ لائسنس',\n",
    "        'خوش آمدید': 'خوش آمدید',\n",
    "        'خواتین': 'خواتین',\n",
    "        # Add more keywords for other domains if needed\n",
    "    }\n",
    "\n",
    "    user_input_lower = user_input.lower()\n",
    "\n",
    "    detected_domain = None\n",
    "    for keyword, domain in domain_keywords.items():\n",
    "        if keyword in user_input_lower:\n",
    "            detected_domain = domain\n",
    "            break\n",
    "\n",
    "    return detected_domain\n"
   ]
  },
  {
   "cell_type": "code",
   "execution_count": null,
   "id": "e1c987ff",
   "metadata": {},
   "outputs": [
    {
     "name": "stdout",
     "output_type": "stream",
     "text": [
      "چیٹ بوٹ: میں چیٹ جی پی ٹی ہوں، آپ کا دوستانہ چیٹ بوٹ۔\n",
      "آپ: خواتین پر تشدد کی رپورٹ درج کرانے کے لیے کون کون سی دستاویزات مطلوب ہیں؟\n",
      "چیٹ بوٹ: ضروری دستاویزات:\n",
      "\n",
      "    درخواست دہندہ کا اصلی شناختی کارڈ اور 2 کاپیاں\n",
      "    درخواست دہندہ کی تحریری درخواست اگر موجود ہے\n",
      "چیٹ بوٹ: یہ سوال خصوصیت 'خواتین' کے تحت ہے۔\n"
     ]
    }
   ],
   "source": [
    "def chat_with_user(df):\n",
    "    print(\"چیٹ بوٹ: میں چیٹ جی پی ٹی ہوں، آپ کا دوستانہ چیٹ بوٹ۔\")\n",
    "\n",
    "    domain = None\n",
    "    dialogue_history = []\n",
    "\n",
    "    while True:\n",
    "        user_input = input(\"آپ: \")\n",
    "\n",
    "        user_language = detect(user_input)\n",
    "\n",
    "        if user_language != 'ur':\n",
    "            print(\"چیٹ بوٹ: معاف کریں، صرف اردو میں جواب دیں۔\")\n",
    "            continue  \n",
    "\n",
    "        if user_input.lower() in [\"bye\", \"exit\", \"الوداع\", \"خدا حافظ\"]:\n",
    "            print(\"چیٹ بوٹ: دنیا کو آپ کا خدا حافظ کہہ رہا ہے۔\")\n",
    "            break\n",
    "\n",
    "        new_domain = get_domain(user_input)\n",
    "\n",
    "        if new_domain:\n",
    "            domain = new_domain\n",
    "\n",
    "        response = get_similar_answer(user_input, df, domain)\n",
    "        print(\"چیٹ بوٹ:\", response)\n",
    "\n",
    "        dialogue_history.append((user_input, response, domain))\n",
    "\n",
    "        if domain:\n",
    "            print(\"چیٹ بوٹ: یہ سوال خصوصیت '{}' کے تحت ہے۔\".format(domain))\n",
    "\n",
    "if __name__ == \"__main__\":\n",
    "    file_path = 'dataset1.xlsx'\n",
    "    try:\n",
    "        df = pd.read_excel(file_path)\n",
    "        chat_with_user(df)\n",
    "    except FileNotFoundError:\n",
    "        print(\"معاف کریں، ڈیٹا فائل (dataset.xlsx) نہیں ملا۔\")\n",
    "    except Exception as e:\n",
    "        print(\"کچھ خرابی ہو گئی، براہ کرم دوبارہ کوشش کریں۔\")\n",
    "        print(\"خرابی کی تفصیل: \", e)\n"
   ]
  },
  {
   "cell_type": "code",
   "execution_count": null,
   "id": "3a2f8e1a",
   "metadata": {},
   "outputs": [],
   "source": []
  },
  {
   "cell_type": "code",
   "execution_count": null,
   "id": "a5e47eaf",
   "metadata": {},
   "outputs": [],
   "source": []
  }
 ],
 "metadata": {
  "kernelspec": {
   "display_name": "Python 3 (ipykernel)",
   "language": "python",
   "name": "python3"
  },
  "language_info": {
   "codemirror_mode": {
    "name": "ipython",
    "version": 3
   },
   "file_extension": ".py",
   "mimetype": "text/x-python",
   "name": "python",
   "nbconvert_exporter": "python",
   "pygments_lexer": "ipython3",
   "version": "3.11.3"
  }
 },
 "nbformat": 4,
 "nbformat_minor": 5
}
